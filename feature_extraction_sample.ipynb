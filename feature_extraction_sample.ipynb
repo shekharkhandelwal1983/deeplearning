{
  "nbformat": 4,
  "nbformat_minor": 0,
  "metadata": {
    "colab": {
      "name": "feature_extraction_sample.ipynb",
      "provenance": [],
      "authorship_tag": "ABX9TyOWlJ5n5O50BjzdDexY7bbg",
      "include_colab_link": true
    },
    "kernelspec": {
      "name": "python3",
      "display_name": "Python 3"
    }
  },
  "cells": [
    {
      "cell_type": "markdown",
      "metadata": {
        "id": "view-in-github",
        "colab_type": "text"
      },
      "source": [
        "<a href=\"https://colab.research.google.com/github/shekharkhandelwal1983/deeplearning/blob/master/feature_extraction_sample.ipynb\" target=\"_parent\"><img src=\"https://colab.research.google.com/assets/colab-badge.svg\" alt=\"Open In Colab\"/></a>"
      ]
    },
    {
      "cell_type": "code",
      "metadata": {
        "id": "ayBIyV5O81S5",
        "outputId": "a5add800-e839-4d49-e071-2f60f13870d9",
        "colab": {
          "base_uri": "https://localhost:8080/",
          "height": 102
        }
      },
      "source": [
        "from tensorflow.keras.applications.resnet50 import ResNet50\n",
        "from tensorflow.keras.preprocessing import image\n",
        "from tensorflow.keras.applications.resnet50 import preprocess_input, decode_predictions\n",
        "import numpy as np\n",
        "\n",
        "model = ResNet50(weights='imagenet')\n",
        "\n",
        "img_path = 'elephant.jpg'\n",
        "img = image.load_img(img_path, target_size=(224, 224))\n",
        "x = image.img_to_array(img)\n",
        "x = np.expand_dims(x, axis=0)\n",
        "x = preprocess_input(x)\n",
        "\n",
        "preds = model.predict(x)\n",
        "# decode the results into a list of tuples (class, description, probability)\n",
        "# (one such list for each sample in the batch)\n",
        "print('Predicted:', decode_predictions(preds, top=3)[0])"
      ],
      "execution_count": 3,
      "outputs": [
        {
          "output_type": "stream",
          "text": [
            "Downloading data from https://storage.googleapis.com/tensorflow/keras-applications/resnet/resnet50_weights_tf_dim_ordering_tf_kernels.h5\n",
            "102973440/102967424 [==============================] - 1s 0us/step\n",
            "Downloading data from https://storage.googleapis.com/download.tensorflow.org/data/imagenet_class_index.json\n",
            "40960/35363 [==================================] - 0s 0us/step\n",
            "Predicted: [('n01871265', 'tusker', 0.5161922), ('n02504458', 'African_elephant', 0.40800923), ('n02504013', 'Indian_elephant', 0.06258844)]\n"
          ],
          "name": "stdout"
        }
      ]
    },
    {
      "cell_type": "code",
      "metadata": {
        "id": "qglcCVaz_ZJC"
      },
      "source": [
        "from tensorflow.keras.applications.vgg16 import VGG16\n",
        "from tensorflow.keras.preprocessing import image\n",
        "from tensorflow.keras.applications.vgg16 import preprocess_input\n",
        "import numpy as np\n",
        "\n",
        "model = VGG16(weights='imagenet', include_top=False)\n",
        "\n",
        "img_path = 'elephant.jpg'\n",
        "img = image.load_img(img_path, target_size=(224, 224))\n",
        "x = image.img_to_array(img)\n",
        "x = np.expand_dims(x, axis=0)\n",
        "x = preprocess_input(x)\n",
        "\n",
        "features = model.predict(x)"
      ],
      "execution_count": 4,
      "outputs": []
    },
    {
      "cell_type": "code",
      "metadata": {
        "id": "nwliSyv-_Zva",
        "outputId": "d05878e3-0432-488d-a3e9-9400bd78d3d7",
        "colab": {
          "base_uri": "https://localhost:8080/",
          "height": 1000
        }
      },
      "source": [
        "features"
      ],
      "execution_count": 5,
      "outputs": [
        {
          "output_type": "execute_result",
          "data": {
            "text/plain": [
              "array([[[[0.0000000e+00, 0.0000000e+00, 0.0000000e+00, ...,\n",
              "          0.0000000e+00, 0.0000000e+00, 0.0000000e+00],\n",
              "         [0.0000000e+00, 0.0000000e+00, 0.0000000e+00, ...,\n",
              "          0.0000000e+00, 0.0000000e+00, 0.0000000e+00],\n",
              "         [0.0000000e+00, 0.0000000e+00, 0.0000000e+00, ...,\n",
              "          0.0000000e+00, 0.0000000e+00, 0.0000000e+00],\n",
              "         ...,\n",
              "         [0.0000000e+00, 0.0000000e+00, 0.0000000e+00, ...,\n",
              "          0.0000000e+00, 0.0000000e+00, 0.0000000e+00],\n",
              "         [0.0000000e+00, 0.0000000e+00, 0.0000000e+00, ...,\n",
              "          0.0000000e+00, 0.0000000e+00, 0.0000000e+00],\n",
              "         [0.0000000e+00, 0.0000000e+00, 0.0000000e+00, ...,\n",
              "          0.0000000e+00, 0.0000000e+00, 0.0000000e+00]],\n",
              "\n",
              "        [[0.0000000e+00, 0.0000000e+00, 0.0000000e+00, ...,\n",
              "          0.0000000e+00, 0.0000000e+00, 0.0000000e+00],\n",
              "         [0.0000000e+00, 0.0000000e+00, 0.0000000e+00, ...,\n",
              "          0.0000000e+00, 0.0000000e+00, 0.0000000e+00],\n",
              "         [0.0000000e+00, 0.0000000e+00, 0.0000000e+00, ...,\n",
              "          0.0000000e+00, 5.4389181e+00, 0.0000000e+00],\n",
              "         ...,\n",
              "         [0.0000000e+00, 0.0000000e+00, 1.4548289e+01, ...,\n",
              "          0.0000000e+00, 0.0000000e+00, 0.0000000e+00],\n",
              "         [0.0000000e+00, 0.0000000e+00, 0.0000000e+00, ...,\n",
              "          0.0000000e+00, 0.0000000e+00, 0.0000000e+00],\n",
              "         [0.0000000e+00, 0.0000000e+00, 0.0000000e+00, ...,\n",
              "          0.0000000e+00, 7.5687045e-01, 0.0000000e+00]],\n",
              "\n",
              "        [[0.0000000e+00, 0.0000000e+00, 0.0000000e+00, ...,\n",
              "          0.0000000e+00, 0.0000000e+00, 0.0000000e+00],\n",
              "         [0.0000000e+00, 0.0000000e+00, 0.0000000e+00, ...,\n",
              "          0.0000000e+00, 0.0000000e+00, 0.0000000e+00],\n",
              "         [5.7595253e+00, 0.0000000e+00, 3.9346325e+00, ...,\n",
              "          0.0000000e+00, 0.0000000e+00, 3.9611179e+01],\n",
              "         ...,\n",
              "         [3.4813919e+01, 0.0000000e+00, 1.8143129e+01, ...,\n",
              "          0.0000000e+00, 0.0000000e+00, 3.0788233e+01],\n",
              "         [0.0000000e+00, 0.0000000e+00, 0.0000000e+00, ...,\n",
              "          0.0000000e+00, 1.5319740e+00, 6.6855097e+00],\n",
              "         [0.0000000e+00, 0.0000000e+00, 0.0000000e+00, ...,\n",
              "          0.0000000e+00, 9.1403074e+00, 0.0000000e+00]],\n",
              "\n",
              "        ...,\n",
              "\n",
              "        [[0.0000000e+00, 0.0000000e+00, 0.0000000e+00, ...,\n",
              "          0.0000000e+00, 0.0000000e+00, 0.0000000e+00],\n",
              "         [0.0000000e+00, 0.0000000e+00, 0.0000000e+00, ...,\n",
              "          0.0000000e+00, 0.0000000e+00, 0.0000000e+00],\n",
              "         [0.0000000e+00, 0.0000000e+00, 1.8303631e+01, ...,\n",
              "          3.2370059e+00, 0.0000000e+00, 0.0000000e+00],\n",
              "         ...,\n",
              "         [0.0000000e+00, 0.0000000e+00, 0.0000000e+00, ...,\n",
              "          0.0000000e+00, 0.0000000e+00, 0.0000000e+00],\n",
              "         [0.0000000e+00, 0.0000000e+00, 0.0000000e+00, ...,\n",
              "          0.0000000e+00, 0.0000000e+00, 0.0000000e+00],\n",
              "         [0.0000000e+00, 0.0000000e+00, 0.0000000e+00, ...,\n",
              "          0.0000000e+00, 2.2882230e+00, 0.0000000e+00]],\n",
              "\n",
              "        [[0.0000000e+00, 0.0000000e+00, 0.0000000e+00, ...,\n",
              "          0.0000000e+00, 0.0000000e+00, 0.0000000e+00],\n",
              "         [0.0000000e+00, 0.0000000e+00, 0.0000000e+00, ...,\n",
              "          0.0000000e+00, 0.0000000e+00, 0.0000000e+00],\n",
              "         [0.0000000e+00, 0.0000000e+00, 2.7474115e+00, ...,\n",
              "          0.0000000e+00, 0.0000000e+00, 0.0000000e+00],\n",
              "         ...,\n",
              "         [0.0000000e+00, 0.0000000e+00, 0.0000000e+00, ...,\n",
              "          0.0000000e+00, 4.3968072e+00, 0.0000000e+00],\n",
              "         [0.0000000e+00, 0.0000000e+00, 0.0000000e+00, ...,\n",
              "          0.0000000e+00, 0.0000000e+00, 0.0000000e+00],\n",
              "         [0.0000000e+00, 0.0000000e+00, 0.0000000e+00, ...,\n",
              "          0.0000000e+00, 2.5686669e+00, 0.0000000e+00]],\n",
              "\n",
              "        [[0.0000000e+00, 0.0000000e+00, 7.3021650e-04, ...,\n",
              "          0.0000000e+00, 0.0000000e+00, 0.0000000e+00],\n",
              "         [0.0000000e+00, 0.0000000e+00, 0.0000000e+00, ...,\n",
              "          0.0000000e+00, 0.0000000e+00, 0.0000000e+00],\n",
              "         [0.0000000e+00, 0.0000000e+00, 0.0000000e+00, ...,\n",
              "          0.0000000e+00, 0.0000000e+00, 0.0000000e+00],\n",
              "         ...,\n",
              "         [0.0000000e+00, 0.0000000e+00, 0.0000000e+00, ...,\n",
              "          0.0000000e+00, 1.0551715e+00, 0.0000000e+00],\n",
              "         [0.0000000e+00, 0.0000000e+00, 0.0000000e+00, ...,\n",
              "          0.0000000e+00, 0.0000000e+00, 0.0000000e+00],\n",
              "         [0.0000000e+00, 0.0000000e+00, 8.8001366e+00, ...,\n",
              "          0.0000000e+00, 0.0000000e+00, 0.0000000e+00]]]], dtype=float32)"
            ]
          },
          "metadata": {
            "tags": []
          },
          "execution_count": 5
        }
      ]
    },
    {
      "cell_type": "code",
      "metadata": {
        "id": "J0pk2MNMpHVP"
      },
      "source": [
        ""
      ],
      "execution_count": null,
      "outputs": []
    }
  ]
}